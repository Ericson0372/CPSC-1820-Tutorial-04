{
  "cells": [
    {
      "cell_type": "markdown",
      "metadata": {
        "colab_type": "text",
        "id": "view-in-github"
      },
      "source": [
        "<a href=\"https://colab.research.google.com/github/Ericson0372/CPSC-1820-Tutorial-04/blob/main/Fall_2024_CPSC_1820_Tutorial_04.ipynb\" target=\"_parent\"><img src=\"https://colab.research.google.com/assets/colab-badge.svg\" alt=\"Open In Colab\"/></a>"
      ]
    },
    {
      "cell_type": "markdown",
      "metadata": {
        "id": "_ffyHvWmmndL"
      },
      "source": [
        "# Sets\n",
        "\n",
        "Sets are a basic repository of organized data (data structure) implemented in most programming languages\n",
        "\n",
        "In this worksheet, we will look at the use of Sets in Python. We will see\n",
        "\n",
        "+ How to create sets,\n",
        "+ Operations on Sets,\n",
        "+ An application of Sets.\n",
        "\n",
        "Let's start by creating a few sets from the slides listed below.\n",
        "\n",
        "$A = \\{1,2,4\\}$\n",
        "\n",
        "$B=\\{a,e,i,o,u\\}$\n",
        "\n",
        "$C=\\{00,01,10,11\\}$\n",
        "\n",
        "A is the set of primes < 10. B is the set of vowels, and C is the set of Binary strings of length 2. The code is shown below. Notice the use of `'` and `\"`. The single quote `'` and double quote `\"` are used to specify that the content with the quotes is either a character or a string."
      ]
    },
    {
      "cell_type": "code",
      "execution_count": null,
      "metadata": {
        "id": "mtzqTz9VnPj-"
      },
      "outputs": [],
      "source": [
        "A = {1,2,4}\n",
        "B = {'a','e','i','o','u'}\n",
        "C = {\"00\", \"01\", \"10\", \"11\"}"
      ]
    },
    {
      "cell_type": "markdown",
      "metadata": {
        "id": "zUzMtoryoVu7"
      },
      "source": [
        "The sets above have elements/objects that are of the same type (integers, characters or strings). Let's make sure that we store different types of objects in sets. Set D below contain an integer, a character and a string.\n"
      ]
    },
    {
      "cell_type": "code",
      "execution_count": null,
      "metadata": {
        "id": "F2MmGLfYnQ2A"
      },
      "outputs": [],
      "source": [
        "D = {1, 'a', \"\"}"
      ]
    },
    {
      "cell_type": "markdown",
      "metadata": {
        "id": "OBViz0f1p3zU"
      },
      "source": [
        "\n",
        "In class we had seen sets that contain other sets. In Python a set A can containt another set B only if contents of B cannot be changed (B is immutable). The keyword `frozenset` is used specify the set cannot change.\n",
        "\n",
        "To create the set\n",
        "$S = \\{A, B\\}$ where A, B are as above. We create frozensets out of A and B and create a new set S as shown below.\n",
        "\n",
        "##A1: Creating the follwings sets**\n",
        "$$ phi = \\{\\}$$\n",
        "$$E = \\{ phi, \\{phi\\}\\}$$"
      ]
    },
    {
      "cell_type": "code",
      "execution_count": null,
      "metadata": {
        "colab": {
          "base_uri": "https://localhost:8080/"
        },
        "id": "ycSEW1WKoKvg",
        "outputId": "544a4bc4-4471-4aff-cfae-98ca8530a8d5"
      },
      "outputs": [
        {
          "name": "stdout",
          "output_type": "stream",
          "text": [
            "{frozenset({'i', 'a', 'u', 'o', 'e'}), frozenset({1, 2, 4})}\n"
          ]
        }
      ],
      "source": [
        "S = {frozenset(A), frozenset(B)} #Read only collection for set\n",
        "print(S) \n",
        "\n",
        "# type in the code to create the empty set phi\n",
        "phi = frozenset({})\n",
        "\n",
        "\n",
        "# type in the code to create the E = {phi, {phi}}\n",
        "E = {phi, frozenset(phi)}\n",
        "\n",
        "print(phi, E)"
      ]
    },
    {
      "cell_type": "markdown",
      "metadata": {
        "id": "Yii8w2taskhp"
      },
      "source": [
        "##A2: Explain the code below. You may run the cell and see the values that are printed. What is set Y, before and after the line `Y = {1, frozenset(Y)}` is executed.\n",
        "\n",
        "Write your answer in text form below following the code block."
      ]
    },
    {
      "cell_type": "code",
      "execution_count": null,
      "metadata": {
        "colab": {
          "base_uri": "https://localhost:8080/"
        },
        "id": "HksiBBvUpsl-",
        "outputId": "2df36229-2ee3-4fbd-ae73-c3d9c5dba35d"
      },
      "outputs": [
        {
          "name": "stdout",
          "output_type": "stream",
          "text": [
            "{'a'}\n",
            "{1, frozenset({'a'})}\n"
          ]
        }
      ],
      "source": [
        "Y = {'a'}\n",
        "print(Y)\n",
        "Y = {1, frozenset(Y)}\n",
        "print(Y)"
      ]
    },
    {
      "cell_type": "markdown",
      "metadata": {
        "id": "oEgazZ-79Ssr"
      },
      "source": [
        "Write you Answer in this block:\n",
        "\n",
        "\n"
      ]
    },
    {
      "cell_type": "markdown",
      "metadata": {
        "id": "eZlQz2Hmt1JY"
      },
      "source": [
        "Python provides for following opeators. Give two sets A, B\n",
        "\n",
        "A==B, if the sets are equal.\n",
        "\n",
        "A != B, if the sets are not equal.\n",
        "\n",
        "A <= B, if A is a subset of B\n",
        "\n",
        "A < B, if A is a proper subset of B\n",
        "\n",
        "We can also perform the union, intersection, difference as follows\n",
        "\n",
        "A | B, A union B\n",
        "\n",
        "A & B, A intersection B\n",
        "\n",
        "A - B, difference of A and B.\n",
        "\n",
        "##A3: For the sets $A,B,C$ defined in the cells above. Compute the following sets in Python.\n",
        "\n",
        "+ $A \\cup B \\cup C$\n",
        "+ $A \\cap B \\cap C$\n",
        "+ $A \\cup (B \\cap C)$\n",
        "+ $(A \\cup B) \\cap (A \\cup C)$\n",
        "+ $(A - B) \\cup (B - A) \\cup (A \\cap B)$\n",
        "\n",
        "## A4: Check if the following predicates are true.\n",
        "\n",
        "+ $A \\cap B \\subseteq A$\n",
        "+ $B \\subseteq A \\cup B$"
      ]
    },
    {
      "cell_type": "code",
      "execution_count": null,
      "metadata": {
        "colab": {
          "base_uri": "https://localhost:8080/"
        },
        "id": "LiPrpNMopyL6",
        "outputId": "2ac0d922-cb5e-4af3-d591-8278e6d8acd5"
      },
      "outputs": [
        {
          "name": "stdout",
          "output_type": "stream",
          "text": [
            "{'11', 1, 2, 'i', 4, '00', 'o', 'e', '10', 'a', 'u', '01'}\n",
            "set()\n",
            "{1, 2, 4}\n",
            "{1, 2, 4}\n",
            "{1, 2, 'i', 4, 'o', 'e', 'a', 'u'}\n",
            "True\n",
            "True\n"
          ]
        }
      ],
      "source": [
        "print(A | B | C)\n",
        "print()  #Write the Predicate for (A ∩ B ∩ C)\n",
        "print(A | (B & C))\n",
        "print()  #Write the Predicate for (A∪B)∩(A∪C)\n",
        "print( (A - B) | (B - A) | (A & B))\n",
        "print( (A & B) <= A )\n",
        "print()  #Write the Predicate for ( B ⊆ A ∪ B )"
      ]
    },
    {
      "cell_type": "markdown",
      "metadata": {
        "id": "eABcrrk5wIBy"
      },
      "source": [
        "Next, we will verify DeMorgan's laws for sets. Let $U= \\{1,2,3,4,5,6,7,8,9,10\\}$, $P=\\{1,3,5\\}$ and $Q=\\{2,4,6\\}$. The laws state the following.\n",
        "\n",
        "+ $(P \\cup Q)' = P' \\cap Q'$\n",
        "+ $(P \\cap Q)' = P' \\cup Q'$\n",
        "\n",
        "where $Q' = U - Q$ and $P' = U - P$.\n",
        "\n",
        "We can check whether the identities above are true by using the `==` operator. The code for the first identify is shown below.\n",
        "\n",
        "##A5: Write the code for the second identity.\n"
      ]
    },
    {
      "cell_type": "code",
      "execution_count": null,
      "metadata": {
        "colab": {
          "base_uri": "https://localhost:8080/"
        },
        "id": "JCXl9pP4vrNe",
        "outputId": "8ecf115b-14df-4bb6-8150-6e339c395e95"
      },
      "outputs": [
        {
          "name": "stdout",
          "output_type": "stream",
          "text": [
            "{8, 9, 10, 7}\n",
            "{8, 9, 10, 7}\n",
            "True\n"
          ]
        }
      ],
      "source": [
        "U = {1,2,3,4,5,6,7,8,9,10}\n",
        "P = {1,3,5}\n",
        "Q = {2,4,6}\n",
        "\n",
        "\n",
        "print( (U - (P | Q)))\n",
        "print( (U - P) & (U - Q))\n",
        "\n",
        "print( (U - (P | Q)) == (U - P) & (U - Q))\n",
        "\n",
        "# write the code below for the second identity above."
      ]
    },
    {
      "cell_type": "markdown",
      "metadata": {
        "id": "b-srFtviAszz"
      },
      "source": [
        "Finally, we will look at an application.\n",
        "\n",
        "We are given two sets, `Bol= {0,1}` and a set of propositions `P={'A','B','C'}`.\n",
        "\n",
        "The goal is to create a new set $W$ as defined below.\n",
        "\n",
        "$$W = \\{ \\{v,p\\} | v\\in Bol, p\\in P\\}$$\n",
        "\n",
        "The code below generates this set. Notice the use of `frozenset`. Sets in Python are mutable (they can change) but sets can only contain elements that are `immutable` therefore we have to use `frozenset`.\n",
        "\n",
        "##A6: Modify the code below when P = {A,B,C,X,Y,Z} and W is defined as below**\n",
        "\n",
        "$$W = \\{ \\{p, v\\} | v\\in Bol, p\\in P\\}$$\n"
      ]
    },
    {
      "cell_type": "code",
      "execution_count": null,
      "metadata": {
        "colab": {
          "base_uri": "https://localhost:8080/"
        },
        "id": "1oOYjWGMBLYE",
        "outputId": "3c08ad3b-f16f-4615-8c7a-2066faaea63d"
      },
      "outputs": [
        {
          "name": "stdout",
          "output_type": "stream",
          "text": [
            "{frozenset({0, 'A'}), frozenset({0, 'C'}), frozenset({1, 'C'}), frozenset({1, 'B'}), frozenset({0, 'B'}), frozenset({1, 'A'})}\n"
          ]
        }
      ],
      "source": [
        "\n",
        "Bol = {0,1}\n",
        "P = {'A', 'B','C'}\n",
        "Ans = {frozenset({v,p}) for v in Bol for p in P}\n",
        "print(Ans)\n",
        "\n",
        "#Add your code below for P = {A,B,C,X,Y,Z}, generate Ans and print afterwards\n",
        "\n"
      ]
    }
  ],
  "metadata": {
    "colab": {
      "include_colab_link": true,
      "provenance": []
    },
    "kernelspec": {
      "display_name": "Python 3",
      "name": "python3"
    },
    "language_info": {
      "name": "python"
    }
  },
  "nbformat": 4,
  "nbformat_minor": 0
}
